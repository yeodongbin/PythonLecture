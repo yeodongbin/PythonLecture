{
 "metadata": {
  "language_info": {
   "codemirror_mode": {
    "name": "ipython",
    "version": 3
   },
   "file_extension": ".py",
   "mimetype": "text/x-python",
   "name": "python",
   "nbconvert_exporter": "python",
   "pygments_lexer": "ipython3",
   "version": "3.7.9-final"
  },
  "orig_nbformat": 2,
  "kernelspec": {
   "name": "python3",
   "display_name": "Python 3"
  }
 },
 "nbformat": 4,
 "nbformat_minor": 2,
 "cells": [
  {
   "source": [
    "## 검색분야별 사용 URL 참조\n",
    "https://developers.naver.com/docs/common/openapiguide/apilist.md#%EB%A1%9C%EA%B7%B8%EC%9D%B8-%EB%B0%A9%EC%8B%9D-%EC%98%A4%ED%94%88-api"
   ],
   "cell_type": "markdown",
   "metadata": {}
  },
  {
   "source": [
    "msg = \"hello world\"\n",
    "print(msg)"
   ],
   "cell_type": "code",
   "metadata": {},
   "execution_count": null,
   "outputs": []
  },
  {
   "source": [
    "x = 1\n",
    "y = 5\n",
    "x = x + y\n",
    "print(y)"
   ],
   "cell_type": "code",
   "metadata": {},
   "execution_count": null,
   "outputs": []
  },
  {
   "cell_type": "code",
   "execution_count": 4,
   "metadata": {},
   "outputs": [],
   "source": [
    "import urllib.request\n",
    "client_id = \"DJW5Fux2BWPCnGdmCGAR\"\n",
    "client_secret = \"KqbT8GczQN\""
   ]
  },
  {
   "cell_type": "code",
   "execution_count": 6,
   "metadata": {},
   "outputs": [
    {
     "output_type": "execute_result",
     "data": {
      "text/plain": [
       "'https://openapi.naver.com/v1/search/blog.json?query=%EC%A0%9C%EC%A3%BC%EB%8F%84%20%EC%97%AC%ED%96%89'"
      ]
     },
     "metadata": {},
     "execution_count": 6
    }
   ],
   "source": [
    "encText = urllib.parse.quote(\"제주도 여행\")\n",
    "url = \"https://openapi.naver.com/v1/search/blog.json?query=\" + encText\n",
    "url"
   ]
  },
  {
   "cell_type": "code",
   "execution_count": 7,
   "metadata": {},
   "outputs": [],
   "source": [
    "request = urllib.request.Request(url)\n",
    "request.add_header(\"X-Naver-Client-Id\", client_id)\n",
    "request.add_header(\"X-Naver-Client-Secret\", client_secret)"
   ]
  },
  {
   "source": [
    "## 상태확인\n",
    "오류코드 : https://developers.naver.com/docs/common/openapiguide/errorcode.md\n",
    "status : 200(정상)\n"
   ],
   "cell_type": "markdown",
   "metadata": {}
  },
  {
   "cell_type": "code",
   "execution_count": 8,
   "metadata": {},
   "outputs": [
    {
     "output_type": "stream",
     "name": "stdout",
     "text": [
      "200\n"
     ]
    }
   ],
   "source": [
    "response = urllib.request.urlopen(request)\n",
    "print(response.getcode())"
   ]
  },
  {
   "cell_type": "code",
   "execution_count": 9,
   "metadata": {},
   "outputs": [
    {
     "output_type": "execute_result",
     "data": {
      "text/plain": [
       "http.client.HTTPResponse"
      ]
     },
     "metadata": {},
     "execution_count": 9
    }
   ],
   "source": [
    "type(response)"
   ]
  },
  {
   "cell_type": "code",
   "execution_count": 10,
   "metadata": {},
   "outputs": [
    {
     "output_type": "stream",
     "name": "stdout",
     "text": [
      "{\n\"lastBuildDate\": \"Sun, 01 Nov 2020 02:15:25 +0900\",\n\"total\": 1715366,\n\"start\": 1,\n\"display\": 10,\n\"items\": [\n{\n\"title\": \"가을 <b>제주도 여행</b> 알찼던 일정 기록\",\n\"link\": \"https:\\/\\/blog.naver.com\\/arihappy?Redirect=Log&logNo=222096293205\",\n\"description\": \"다가오는 황금연휴에 가을 <b>제주도 여행</b>을 준비하시는 분들 많이 계신 것 같아요. 저는 사람들이 더욱... 가을 <b>제주도 여행</b>시 가기 좋을 것 같아요. 거기다 테쉬폰이라는 독특한 건축양식의 건물도 놓여 있는데... \",\n\"bloggername\": \"소니아 : 해보고 싶은게 백만개\",\n\"bloggerlink\": \"https://blog.naver.com/arihappy\",\n\"postdate\": \"20200922\"\n\n},\n{\n\"title\": \"<b>제주도 여행</b> 코스 제주 함덕해수욕장\",\n\"link\": \"https:\\/\\/blog.naver.com\\/xmkc9664?Redirect=Log&logNo=222110249016\",\n\"description\": \"ㅋㅋㅋㅋ 친구도 제주시에 볼 일이 있다고 하고 제주시 사는 친한 형도 같이 만나볼 겸 <b>제주도 여행</b> 코스로 드라이브를 즐기고 왔어요! 그중에서 노을을 즐기고 왔던 <b>제주도 여행</b> 코스 제주 함덕해수욕장이에요.... \",\n\"bloggername\": \"인생 1회차\",\n\"bloggerlink\": \"https://blog.naver.com/xmkc9664\",\n\"postdate\": \"20201012\"\n\n},\n{\n\"title\": \"<b>제주도 여행</b> 마지막날은 아로마 마사지로 마무리~\",\n\"link\": \"https:\\/\\/blog.naver.com\\/hyr67?Redirect=Log&logNo=222125303079\",\n\"description\": \"2박3일간의 <b>제주도 여행</b> 마지막날 아로마 마사지 받고 그날 저녁 숙면을 취하였답니다. 덕분에 여행의 피로는 없어 집에 와서도 바로 쌩쌩했다죠~ 제주도 팸투어 후\",\n\"bloggername\": \"칸이는 맛집,여행중~\",\n\"bloggerlink\": \"https://blog.naver.com/hyr67\",\n\"postdate\": \"20201024\"\n\n},\n{\n\"title\": \"색다른 <b>제주도 여행</b> 선물\",\n\"link\": \"https:\\/\\/blog.naver.com\\/boriinjeju?Redirect=Log&logNo=222115574118\",\n\"description\": \"얼마 전 친구가 제주에 놀러와 특별한 <b>제주도 여행</b> 선물을 해주었어요. 이색적인 오메기빵을 전문으로... 입구에는 <b>제주도 여행</b> 선물로도 유명한 오메기빵에 대한 설명이 세워져 있었어요. 제주의 전통인... \",\n\"bloggername\": \"여행도좋고,잠도좋고\",\n\"bloggerlink\": \"https://blog.naver.com/boriinjeju\",\n\"postdate\": \"20201015\"\n\n},\n{\n\"title\": \"실패없는 <b>제주도 여행</b>코스!\",\n\"link\": \"https:\\/\\/blog.naver.com\\/jjk5991?Redirect=Log&logNo=222073984724\",\n\"description\": \"고민하다가 제주도로 다녀왔는데요. 확실히 국내 최대 관광지인 만큼 어딜가도 상당히 좋았던 곳들이 많았지만 무더위는 물론 일상의 스트레스를 풀어준 <b>제주도 여행</b>코스들을 한번 정리해서 추천해볼까... \",\n\"bloggername\": \"펭짱조하\",\n\"bloggerlink\": \"https://blog.naver.com/jjk5991\",\n\"postdate\": \"20200828\"\n\n},\n{\n\"title\": \"엄마랑 <b>제주도 여행</b> 4박 5일\",\n\"link\": \"https:\\/\\/blog.naver.com\\/likez2?Redirect=Log&logNo=222119090314\",\n\"description\": \"이것저것 생활용품 사서 제주도생활 준비 시작 초반에 엄마랑 너~~~어무 재밌게 놀아서 벌써 외롭고 쓸쓸하다 엉엉 엄마 아빠랑 주말에 꼭 다시와 꼭. 꼭. #<b>제주도여행</b> #엄마랑제주여행 #엄마랑제주도 #엄마랑여행\",\n\"bloggername\": \"오늘은 또 어디로-\",\n\"bloggerlink\": \"https://blog.naver.com/likez2\",\n\"postdate\": \"20201018\"\n\n},\n{\n\"title\": \"비오는날 <b>제주도 여행</b> : 미디어아트 전시 관람, 아르떼뮤지엄\",\n\"link\": \"https:\\/\\/blog.naver.com\\/mina860527?Redirect=Log&logNo=222126229228\",\n\"description\": \"비오는날 <b>제주도 여행</b> : 미디어아트 전시 관람, 아르떼뮤지엄 요즘 제주에서 핫한 곳을 꼽자면, 국내... 서쪽여행하다 들러보셔도 좋을 것 같고, 비오는날 어딜 가야 하나 고민이신 분들께도 좋은 코스가 되지... \",\n\"bloggername\": \"메밀꽃부부의 세계일주프로젝트\",\n\"bloggerlink\": \"https://blog.naver.com/mina860527\",\n\"postdate\": \"20201026\"\n\n},\n{\n\"title\": \"<b>제주도여행</b> 첫날 제주 김만복과 월정리해변 마무리로 동문시장\",\n\"link\": \"https:\\/\\/blog.naver.com\\/kmjbsh110612?Redirect=Log&logNo=222113803577\",\n\"description\": \"<b>제주도여행</b> 일정은 정말 갑작스럽게 정했었어요. 아용이와 혜미니와 어디론가 떠나고싶다 라고 생각하던 찰나! 해외는 아예 무리, 그나마 여행 느낌이 나는 제주도는 어때? 라며 급 정하게 되었죠. 사실... \",\n\"bloggername\": \"주원엄마민지의 육아블로그\",\n\"bloggerlink\": \"https://blog.naver.com/kmjbsh110612\",\n\"postdate\": \"20201012\"\n\n},\n{\n\"title\": \"<b>제주도여행</b> 동해안 3일차 일정\",\n\"link\": \"https:\\/\\/blog.naver.com\\/theuhakus?Redirect=Log&logNo=222109615865\",\n\"description\": \"일정이 제주도 맛집 우진해장국밖에 없어서 사실상 <b>제주도 여행</b> 2일차네요. 처음은 아침을 어디서... 가족이 운영하는 곳이라 서비스도 좋으시더라구요. 추석연휴 제주도 가족여행 3일차 일정이 지났습니다.\",\n\"bloggername\": \"TROY'S LIFE\",\n\"bloggerlink\": \"https://blog.naver.com/theuhakus\",\n\"postdate\": \"20201007\"\n\n},\n{\n\"title\": \"<b>제주도 여행</b>  용두암부터 들려볼까요?\",\n\"link\": \"https:\\/\\/blog.naver.com\\/yimjihoon85?Redirect=Log&logNo=222108659277\",\n\"description\": \"사실 여름제주도, 겨울 제주도는 와봤었는데 가을제주도랑, 봄 제주도는 못와밨거든요 ! 이번기회에 가을<b>제주도 여행</b>을 하게 되서 너무너무 좋아요!! 날씨보세요!! 진짜 하늘은 높고 바람은 선선하고 여행하기... \",\n\"bloggername\": \"성현아이엔 유학 이나래팀장\",\n\"bloggerlink\": \"https://blog.naver.com/yimjihoon85\",\n\"postdate\": \"20201006\"\n\n}\n]\n}\n\n"
     ]
    }
   ],
   "source": [
    "print(response.read().decode('utf-8'))"
   ]
  },
  {
   "cell_type": "code",
   "execution_count": 11,
   "metadata": {},
   "outputs": [],
   "source": [
    "def create_url(api_node, search_text, start_num, disp_num):\n",
    "    base = \"https://openapi.naver.com/v1/search\"\n",
    "    node = \"/\" + api_node + \".json\"\n",
    "    param_query = \"?query=\" + urllib.parse.quote(search_text)\n",
    "    param_start = \"&start=\" + str(start_num)\n",
    "    param_disp = \"&display=\" + str(disp_num)\n",
    "\n",
    "    return base + node + param_query + param_start + param_disp"
   ]
  },
  {
   "cell_type": "code",
   "execution_count": 12,
   "metadata": {},
   "outputs": [
    {
     "output_type": "execute_result",
     "data": {
      "text/plain": [
       "'https://openapi.naver.com/v1/search/book.json?query=TEST&start=1&display=10'"
      ]
     },
     "metadata": {},
     "execution_count": 12
    }
   ],
   "source": [
    "create_url(\"book\", \"TEST\", 1, 10)"
   ]
  },
  {
   "cell_type": "code",
   "execution_count": 13,
   "metadata": {},
   "outputs": [
    {
     "output_type": "execute_result",
     "data": {
      "text/plain": [
       "{'lastBuildDate': 'Sun, 01 Nov 2020 02:20:30 +0900',\n",
       " 'total': 1144,\n",
       " 'start': 1,\n",
       " 'display': 3,\n",
       " 'items': [{'title': '이것이 취업을 위한 코딩 테스트다 with <b>파이썬</b> (취업과 이직을 결정하는 알고리즘 인터뷰 완벽 가이드, C/C++, 자바 코드 제공)',\n",
       "   'link': 'http://book.naver.com/bookdb/book_detail.php?bid=16439154',\n",
       "   'image': 'https://bookthumb-phinf.pstatic.net/cover/164/391/16439154.jpg?type=m1&udate=20200928',\n",
       "   'author': '나동빈',\n",
       "   'price': '34000',\n",
       "   'discount': '30600',\n",
       "   'publisher': '한빛미디어',\n",
       "   'pubdate': '20200805',\n",
       "   'isbn': '1162243074 9791162243077',\n",
       "   'description': '8가지 핵심 알고리즘 이론을 쉽게 설명하고, 관련 실전 문제를 풀이했다. 출제 유형 분석, 이론 설명, 기출문제 풀이까지! 어떤 코딩 테스트도 이 책 한 권으로 대비할 수 있을 것이다. 코딩 테스트에서 주로 선택하는 <b>파이썬</b>을 기반으로 설명되어 있으며, <b>파이썬</b> 코드 외에도 C/C++, 자바 코드를 추가로 제공한다.'},\n",
       "  {'title': '<b>파이썬</b> 알고리즘 인터뷰 (95가지 알고리즘 문제 풀이로 완성하는 코딩 테스트)',\n",
       "   'link': 'http://book.naver.com/bookdb/book_detail.php?bid=16406247',\n",
       "   'image': 'https://bookthumb-phinf.pstatic.net/cover/164/062/16406247.jpg?type=m1&udate=20201028',\n",
       "   'author': '박상길',\n",
       "   'price': '38000',\n",
       "   'discount': '34200',\n",
       "   'publisher': '책만',\n",
       "   'pubdate': '20200715',\n",
       "   'isbn': '1189909170 9791189909178',\n",
       "   'description': '물론, <b>파이썬</b>으로 구현하는 코드 풀이를 통해 성능 최적화 기법, <b>파이썬</b>의 핵심 문법과 다양한 실용 테크닉까지 배울 수 있는, 초보 개발자와 숙련 개발자... 이 책은 현업과 실무에 유용한 주요 알고리즘 이론을 깊숙이 이해하고, <b>파이썬</b>의 핵심 기능과 문법까지 상세하게 이해할 수 있는 취업용 코딩 테스트를... '},\n",
       "  {'title': '혼자 공부하는 <b>파이썬</b> (<b>파이썬</b> 최신 버전 반영)',\n",
       "   'link': 'http://book.naver.com/bookdb/book_detail.php?bid=15028688',\n",
       "   'image': 'https://bookthumb-phinf.pstatic.net/cover/150/286/15028688.jpg?type=m1&udate=20200915',\n",
       "   'author': '윤인성',\n",
       "   'price': '18000',\n",
       "   'discount': '16200',\n",
       "   'publisher': '한빛미디어',\n",
       "   'pubdate': '20190610',\n",
       "   'isbn': '1162241888 9791162241882',\n",
       "   'description': '1:1 과외하듯 배우는 <b>파이썬</b> 프로그래밍 자습서(<b>파이썬</b> 최신 버전 반영)\\n이 책은 독학으로 프로그래밍 언어를 처음 배우려는 입문자가, 혹은 <b>파이썬</b>을 배우려는 입문자가 ‘꼭 필요한 내용을 제대로’ 학습할 수 있도록 구성했다. ‘무엇을’, ‘어떻게’ 학습해야 할지조차 모르는 입문자의 막연한 마음을 살펴... '}]}"
      ]
     },
     "metadata": {},
     "execution_count": 13
    }
   ],
   "source": [
    "import json\n",
    "\n",
    "client_id = \"bWp3ZxMXpDaJcmLzcetv\"\n",
    "client_secret = \"YmdlrBL8vD\"\n",
    "    \n",
    "url = create_url(\"book\", \"파이썬\", 1, 3)\n",
    "    \n",
    "request = urllib.request.Request(url)\n",
    "request.add_header(\"X-Naver-Client-Id\", client_id)\n",
    "request.add_header(\"X-Naver-Client-Secret\", client_secret)\n",
    "    \n",
    "response = urllib.request.urlopen(request)\n",
    "\n",
    "result = json.loads(response.read().decode('utf-8'))\n",
    "result"
   ]
  },
  {
   "cell_type": "code",
   "execution_count": 14,
   "metadata": {},
   "outputs": [
    {
     "output_type": "execute_result",
     "data": {
      "text/plain": [
       "3"
      ]
     },
     "metadata": {},
     "execution_count": 14
    }
   ],
   "source": [
    "result['display']"
   ]
  },
  {
   "cell_type": "code",
   "execution_count": 15,
   "metadata": {},
   "outputs": [
    {
     "output_type": "execute_result",
     "data": {
      "text/plain": [
       "[{'title': '이것이 취업을 위한 코딩 테스트다 with <b>파이썬</b> (취업과 이직을 결정하는 알고리즘 인터뷰 완벽 가이드, C/C++, 자바 코드 제공)',\n",
       "  'link': 'http://book.naver.com/bookdb/book_detail.php?bid=16439154',\n",
       "  'image': 'https://bookthumb-phinf.pstatic.net/cover/164/391/16439154.jpg?type=m1&udate=20200928',\n",
       "  'author': '나동빈',\n",
       "  'price': '34000',\n",
       "  'discount': '30600',\n",
       "  'publisher': '한빛미디어',\n",
       "  'pubdate': '20200805',\n",
       "  'isbn': '1162243074 9791162243077',\n",
       "  'description': '8가지 핵심 알고리즘 이론을 쉽게 설명하고, 관련 실전 문제를 풀이했다. 출제 유형 분석, 이론 설명, 기출문제 풀이까지! 어떤 코딩 테스트도 이 책 한 권으로 대비할 수 있을 것이다. 코딩 테스트에서 주로 선택하는 <b>파이썬</b>을 기반으로 설명되어 있으며, <b>파이썬</b> 코드 외에도 C/C++, 자바 코드를 추가로 제공한다.'},\n",
       " {'title': '<b>파이썬</b> 알고리즘 인터뷰 (95가지 알고리즘 문제 풀이로 완성하는 코딩 테스트)',\n",
       "  'link': 'http://book.naver.com/bookdb/book_detail.php?bid=16406247',\n",
       "  'image': 'https://bookthumb-phinf.pstatic.net/cover/164/062/16406247.jpg?type=m1&udate=20201028',\n",
       "  'author': '박상길',\n",
       "  'price': '38000',\n",
       "  'discount': '34200',\n",
       "  'publisher': '책만',\n",
       "  'pubdate': '20200715',\n",
       "  'isbn': '1189909170 9791189909178',\n",
       "  'description': '물론, <b>파이썬</b>으로 구현하는 코드 풀이를 통해 성능 최적화 기법, <b>파이썬</b>의 핵심 문법과 다양한 실용 테크닉까지 배울 수 있는, 초보 개발자와 숙련 개발자... 이 책은 현업과 실무에 유용한 주요 알고리즘 이론을 깊숙이 이해하고, <b>파이썬</b>의 핵심 기능과 문법까지 상세하게 이해할 수 있는 취업용 코딩 테스트를... '},\n",
       " {'title': '혼자 공부하는 <b>파이썬</b> (<b>파이썬</b> 최신 버전 반영)',\n",
       "  'link': 'http://book.naver.com/bookdb/book_detail.php?bid=15028688',\n",
       "  'image': 'https://bookthumb-phinf.pstatic.net/cover/150/286/15028688.jpg?type=m1&udate=20200915',\n",
       "  'author': '윤인성',\n",
       "  'price': '18000',\n",
       "  'discount': '16200',\n",
       "  'publisher': '한빛미디어',\n",
       "  'pubdate': '20190610',\n",
       "  'isbn': '1162241888 9791162241882',\n",
       "  'description': '1:1 과외하듯 배우는 <b>파이썬</b> 프로그래밍 자습서(<b>파이썬</b> 최신 버전 반영)\\n이 책은 독학으로 프로그래밍 언어를 처음 배우려는 입문자가, 혹은 <b>파이썬</b>을 배우려는 입문자가 ‘꼭 필요한 내용을 제대로’ 학습할 수 있도록 구성했다. ‘무엇을’, ‘어떻게’ 학습해야 할지조차 모르는 입문자의 막연한 마음을 살펴... '}]"
      ]
     },
     "metadata": {},
     "execution_count": 15
    }
   ],
   "source": [
    "result['items']"
   ]
  },
  {
   "cell_type": "code",
   "execution_count": 16,
   "metadata": {},
   "outputs": [
    {
     "output_type": "execute_result",
     "data": {
      "text/plain": [
       "3"
      ]
     },
     "metadata": {},
     "execution_count": 16
    }
   ],
   "source": [
    "len(result['items'])"
   ]
  },
  {
   "cell_type": "code",
   "execution_count": 17,
   "metadata": {},
   "outputs": [
    {
     "output_type": "execute_result",
     "data": {
      "text/plain": [
       "['이것이 취업을 위한 코딩 테스트다 with <b>파이썬</b> (취업과 이직을 결정하는 알고리즘 인터뷰 완벽 가이드, C/C++, 자바 코드 제공)',\n",
       " '<b>파이썬</b> 알고리즘 인터뷰 (95가지 알고리즘 문제 풀이로 완성하는 코딩 테스트)',\n",
       " '혼자 공부하는 <b>파이썬</b> (<b>파이썬</b> 최신 버전 반영)']"
      ]
     },
     "metadata": {},
     "execution_count": 17
    }
   ],
   "source": [
    "titles = [result['items'][n]['title'] for n in range(3)]\n",
    "titles"
   ]
  },
  {
   "cell_type": "code",
   "execution_count": 18,
   "metadata": {},
   "outputs": [
    {
     "output_type": "execute_result",
     "data": {
      "text/plain": [
       "['나동빈', '박상길', '윤인성']"
      ]
     },
     "metadata": {},
     "execution_count": 18
    }
   ],
   "source": [
    "authors = [result['items'][n]['author'] for n in range(3)]\n",
    "authors\n"
   ]
  },
  {
   "cell_type": "code",
   "execution_count": 19,
   "metadata": {},
   "outputs": [
    {
     "output_type": "execute_result",
     "data": {
      "text/plain": [
       "['20200805', '20200715', '20190610']"
      ]
     },
     "metadata": {},
     "execution_count": 19
    }
   ],
   "source": [
    "pubdates = [result['items'][n]['pubdate'] for n in range(3)]\n",
    "pubdates"
   ]
  },
  {
   "cell_type": "code",
   "execution_count": 20,
   "metadata": {},
   "outputs": [
    {
     "output_type": "error",
     "ename": "ModuleNotFoundError",
     "evalue": "No module named 'pandas'",
     "traceback": [
      "\u001b[1;31m---------------------------------------------------------------------------\u001b[0m",
      "\u001b[1;31mModuleNotFoundError\u001b[0m                       Traceback (most recent call last)",
      "\u001b[1;32m<ipython-input-20-10d1266f669b>\u001b[0m in \u001b[0;36m<module>\u001b[1;34m\u001b[0m\n\u001b[1;32m----> 1\u001b[1;33m \u001b[1;32mimport\u001b[0m \u001b[0mpandas\u001b[0m \u001b[1;32mas\u001b[0m \u001b[0mpd\u001b[0m\u001b[1;33m\u001b[0m\u001b[1;33m\u001b[0m\u001b[0m\n\u001b[0m\u001b[0;32m      2\u001b[0m \u001b[1;33m\u001b[0m\u001b[0m\n\u001b[0;32m      3\u001b[0m \u001b[0mpd\u001b[0m\u001b[1;33m.\u001b[0m\u001b[0mDataFrame\u001b[0m\u001b[1;33m(\u001b[0m\u001b[1;33m{\u001b[0m\u001b[1;34m'책제목'\u001b[0m\u001b[1;33m:\u001b[0m\u001b[0mtitles\u001b[0m\u001b[1;33m,\u001b[0m \u001b[1;34m'작가'\u001b[0m\u001b[1;33m:\u001b[0m\u001b[0mauthors\u001b[0m\u001b[1;33m,\u001b[0m \u001b[1;34m'출판일'\u001b[0m\u001b[1;33m:\u001b[0m\u001b[0mpubdates\u001b[0m\u001b[1;33m}\u001b[0m\u001b[1;33m)\u001b[0m\u001b[1;33m\u001b[0m\u001b[1;33m\u001b[0m\u001b[0m\n",
      "\u001b[1;31mModuleNotFoundError\u001b[0m: No module named 'pandas'"
     ]
    }
   ],
   "source": [
    "import pandas as pd\n",
    "\n",
    "pd.DataFrame({'책제목':titles, '작가':authors, '출판일':pubdates})"
   ]
  },
  {
   "cell_type": "code",
   "execution_count": null,
   "metadata": {},
   "outputs": [],
   "source": [
    "def get_dataframe(url):\n",
    "    client_id = \"bWp3ZxMXpDaJcmLzcetv\"\n",
    "    client_secret = \"YmdlrBL8vD\"\n",
    "    \n",
    "    request = urllib.request.Request(url)\n",
    "    request.add_header(\"X-Naver-Client-Id\", client_id)\n",
    "    request.add_header(\"X-Naver-Client-Secret\", client_secret)\n",
    "    \n",
    "    response = urllib.request.urlopen(request)\n",
    "\n",
    "    result = json.loads(response.read().decode('utf-8'))\n",
    "    \n",
    "    end_num = result['display']\n",
    "    \n",
    "    titles = [result['items'][n]['title'] for n in range(end_num)]\n",
    "    authors = [result['items'][n]['author'] for n in range(end_num)]\n",
    "    pubdates = [result['items'][n]['pubdate'] for n in range(end_num)]\n",
    "    \n",
    "    return pd.DataFrame({'책제목':titles, '작가':authors, '출판일':pubdates})"
   ]
  },
  {
   "cell_type": "code",
   "execution_count": null,
   "metadata": {},
   "outputs": [],
   "source": [
    "get_dataframe(url)"
   ]
  },
  {
   "cell_type": "code",
   "execution_count": null,
   "metadata": {},
   "outputs": [],
   "source": [
    "def delete_tag(input_str):\n",
    "    input_str = input_str.replace(\"<b>\", \"\")\n",
    "    input_str = input_str.replace(\"</b>\", \"\")\n",
    "    return input_str"
   ]
  },
  {
   "cell_type": "code",
   "execution_count": null,
   "metadata": {},
   "outputs": [],
   "source": [
    "def get_dataframe(url):\n",
    "    client_id = \"bWp3ZxMXpDaJcmLzcetv\"\n",
    "    client_secret = \"YmdlrBL8vD\"\n",
    "    \n",
    "    request = urllib.request.Request(url)\n",
    "    request.add_header(\"X-Naver-Client-Id\", client_id)\n",
    "    request.add_header(\"X-Naver-Client-Secret\", client_secret)\n",
    "    \n",
    "    response = urllib.request.urlopen(request)\n",
    "\n",
    "    result = json.loads(response.read().decode('utf-8'))\n",
    "    \n",
    "    end_num = result['display']\n",
    "    \n",
    "    titles = [delete_tag(result['items'][n]['title']) for n in range(end_num)]\n",
    "    authors = [result['items'][n]['author'] for n in range(end_num)]\n",
    "    pubdates = [result['items'][n]['pubdate'] for n in range(end_num)]\n",
    "\n",
    "    return pd.DataFrame({'책제목':titles, '작가':authors, '출판일':pubdates})"
   ]
  },
  {
   "cell_type": "code",
   "execution_count": null,
   "metadata": {},
   "outputs": [],
   "source": [
    "get_dataframe(url)"
   ]
  },
  {
   "cell_type": "code",
   "execution_count": null,
   "metadata": {},
   "outputs": [],
   "source": [
    "[n for n in range(1,300,100)]"
   ]
  },
  {
   "cell_type": "code",
   "execution_count": null,
   "metadata": {},
   "outputs": [],
   "source": [
    "result_search = []\n",
    "\n",
    "for n in range(1,300,100):\n",
    "    url = create_url(\"book\", \"파이썬\", n, 100)\n",
    "    result_search.append(get_dataframe(url))\n",
    "    \n",
    "result_search = pd.concat(result_search)"
   ]
  },
  {
   "cell_type": "code",
   "execution_count": null,
   "metadata": {},
   "outputs": [],
   "source": [
    "result_search.head()"
   ]
  },
  {
   "cell_type": "code",
   "execution_count": null,
   "metadata": {},
   "outputs": [],
   "source": [
    "\n",
    "result_search.info()"
   ]
  },
  {
   "cell_type": "code",
   "execution_count": null,
   "metadata": {},
   "outputs": [],
   "source": [
    "result_search = result_search.reset_index(drop=True)\n",
    "result_search.info()"
   ]
  },
  {
   "cell_type": "code",
   "execution_count": null,
   "metadata": {},
   "outputs": [],
   "source": [
    "writer = pd.ExcelWriter(\"./data/Python_book_info.xlsx\", engine='xlsxwriter')\n",
    "result_search.to_excel(writer, sheet_name='Sheet1')\n",
    "\n",
    "workbook  = writer.book\n",
    "worksheet = writer.sheets['Sheet1']\n",
    "\n",
    "format_center = workbook.add_format({'text_wrap': True})\n",
    "format_center.set_align('center')\n",
    "format_center.set_align('vcenter')\n",
    "\n",
    "worksheet.set_column('A:A', 5)\n",
    "worksheet.set_column('B:B', 90, format_center)\n",
    "worksheet.set_column('C:C', 40, format_center)\n",
    "worksheet.set_column('D:D', 15)\n",
    "\n",
    "writer.save()"
   ]
  }
 ]
}
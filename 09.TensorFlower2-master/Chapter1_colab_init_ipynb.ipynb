{
  "nbformat": 4,
  "nbformat_minor": 0,
  "metadata": {
    "colab": {
      "name": "colab init.ipynb의 사본",
      "private_outputs": true,
      "provenance": [],
      "collapsed_sections": []
    },
    "kernelspec": {
      "name": "python3",
      "display_name": "Python 3"
    },
    "accelerator": "GPU"
  },
  "cells": [
    {
      "cell_type": "markdown",
      "metadata": {
        "id": "wvQHkStEqNk_"
      },
      "source": [
        "# Colab을 활용한 간단한 예제 작성"
      ]
    },
    {
      "cell_type": "markdown",
      "metadata": {
        "id": "9IsYsv_FqfIY"
      },
      "source": [
        "## 1. Colab 서버 스펙 확인"
      ]
    },
    {
      "cell_type": "markdown",
      "metadata": {
        "id": "ohFDuJ3IxGO1"
      },
      "source": [
        "### 전반적인 사양"
      ]
    },
    {
      "cell_type": "code",
      "metadata": {
        "id": "HCqCHNzA9P0X"
      },
      "source": [
        "from tensorflow.python.client import device_lib\n",
        "device_lib.list_local_devices()"
      ],
      "execution_count": null,
      "outputs": []
    },
    {
      "cell_type": "markdown",
      "metadata": {
        "id": "5r_losHQ_f5l"
      },
      "source": [
        "### OS 정보"
      ]
    },
    {
      "cell_type": "code",
      "metadata": {
        "id": "j3pA0-Fa_nRg"
      },
      "source": [
        "import platform\n",
        "platform.platform()"
      ],
      "execution_count": null,
      "outputs": []
    },
    {
      "cell_type": "markdown",
      "metadata": {
        "id": "R68iERBQ_pMt"
      },
      "source": [
        "### OS 모델"
      ]
    },
    {
      "cell_type": "code",
      "metadata": {
        "id": "T3f6XCuXi1Tl"
      },
      "source": [
        "  !cat /etc/issue.net"
      ],
      "execution_count": null,
      "outputs": []
    },
    {
      "cell_type": "markdown",
      "metadata": {
        "id": "y6AxP1sEAHcR"
      },
      "source": [
        "### Memory"
      ]
    },
    {
      "cell_type": "code",
      "metadata": {
        "id": "dA6t7YCFALYe"
      },
      "source": [
        "!cat /proc/meminfo"
      ],
      "execution_count": null,
      "outputs": []
    },
    {
      "cell_type": "markdown",
      "metadata": {
        "id": "oqv-E-Q-AU19"
      },
      "source": [
        "### CPU 정보"
      ]
    },
    {
      "cell_type": "code",
      "metadata": {
        "id": "VWciK4wRARUg"
      },
      "source": [
        "! cat /proc/cpuinfo"
      ],
      "execution_count": null,
      "outputs": []
    },
    {
      "cell_type": "markdown",
      "metadata": {
        "id": "JhM4e7DMAaJL"
      },
      "source": [
        "### Disk 정보"
      ]
    },
    {
      "cell_type": "code",
      "metadata": {
        "id": "U-27TX51AeLZ"
      },
      "source": [
        "!df -h"
      ],
      "execution_count": null,
      "outputs": []
    },
    {
      "cell_type": "markdown",
      "metadata": {
        "id": "Mv95sy73Ahey"
      },
      "source": [
        "### GPU 정보"
      ]
    },
    {
      "cell_type": "code",
      "metadata": {
        "id": "NzduzDisApbs"
      },
      "source": [
        "!nvidia-smi"
      ],
      "execution_count": null,
      "outputs": []
    },
    {
      "cell_type": "markdown",
      "metadata": {
        "id": "v9pt27rwA--U"
      },
      "source": [
        "### Python 버전 확인"
      ]
    },
    {
      "cell_type": "code",
      "metadata": {
        "id": "vy5iy9C_BEwd"
      },
      "source": [
        "!python --version"
      ],
      "execution_count": null,
      "outputs": []
    },
    {
      "cell_type": "markdown",
      "metadata": {
        "id": "3QdatQsZBIPB"
      },
      "source": [
        "### 현재 디렉토리 목록 확인"
      ]
    },
    {
      "cell_type": "code",
      "metadata": {
        "id": "VG7WAqQWBNMw"
      },
      "source": [
        "!ls"
      ],
      "execution_count": null,
      "outputs": []
    },
    {
      "cell_type": "markdown",
      "metadata": {
        "id": "3v_0YcqFAuAr"
      },
      "source": [
        "## 2. 파일처리"
      ]
    },
    {
      "cell_type": "markdown",
      "metadata": {
        "id": "G48YiKpnA3Z_"
      },
      "source": [
        "### 파일쓰기"
      ]
    },
    {
      "cell_type": "code",
      "metadata": {
        "id": "VbhAFz2hjUoO"
      },
      "source": [
        "%%writefile  test.py\n",
        "print('hello world!')"
      ],
      "execution_count": null,
      "outputs": []
    },
    {
      "cell_type": "code",
      "metadata": {
        "id": "EPUA_jcYBt03"
      },
      "source": [
        "# 위에서 생성한 test.py가 조회된다.\n",
        "!ls"
      ],
      "execution_count": null,
      "outputs": []
    },
    {
      "cell_type": "markdown",
      "metadata": {
        "id": "cquFtPWVCy1m"
      },
      "source": [
        "### 파이썬 코드 실행"
      ]
    },
    {
      "cell_type": "code",
      "metadata": {
        "id": "2jF3Gw40B9-K"
      },
      "source": [
        "# test.py 실행시키기\n",
        "%run test.py"
      ],
      "execution_count": null,
      "outputs": []
    },
    {
      "cell_type": "markdown",
      "metadata": {
        "id": "WBY5OhB0CN-3"
      },
      "source": [
        "### 파일 다운로드"
      ]
    },
    {
      "cell_type": "code",
      "metadata": {
        "id": "vI5j-jUrC-Py"
      },
      "source": [
        "from google.colab import files\n",
        "# 브라우저에 다운로드 됨을 확인할 수 있다.\n",
        "files.download('test.py')"
      ],
      "execution_count": null,
      "outputs": []
    },
    {
      "cell_type": "markdown",
      "metadata": {
        "id": "GpcOlVYSDMTb"
      },
      "source": [
        "### 파일업로드"
      ]
    },
    {
      "cell_type": "code",
      "metadata": {
        "id": "iBv-LjbiCLEe"
      },
      "source": [
        "# [Cancel upload] 버튼을 클릭하여 잠시 멈춘 후 파일선택 버튼을 클릭하면 PC 내 파일을 선택할 수 있는 다이얼로그 창이 뜬다.\n",
        "# 리턴값을 받는 변수인 myupload라는 이름의 디렉토리가 생성된다.\n",
        "myupload = files.upload()"
      ],
      "execution_count": null,
      "outputs": []
    },
    {
      "cell_type": "markdown",
      "metadata": {
        "id": "rsqc3S-tEfHh"
      },
      "source": [
        "## 3. 구글드라이브 연동\n",
        "\n",
        "기존에는 연동을 위한 인증절차가 꽤 복잡하여 사전에 20줄 정도되는 스크립트로 OAuth를 가동하기 위한 준비가 필요했었다.\n",
        "하지만 지금은 업그레이드되어 굉장히 편리해졌다."
      ]
    },
    {
      "cell_type": "markdown",
      "metadata": {
        "id": "SYFA9X3aGBBB"
      },
      "source": [
        "### 현재 디렉토리 위치 및 목록 확인"
      ]
    },
    {
      "cell_type": "code",
      "metadata": {
        "id": "lPs_kfn-jdH-"
      },
      "source": [
        "import os\n",
        "print(os.getcwd())\n",
        "!ls"
      ],
      "execution_count": null,
      "outputs": []
    },
    {
      "cell_type": "markdown",
      "metadata": {
        "id": "Q4Z6C070F6-B"
      },
      "source": [
        "### 구글드라이브 연동"
      ]
    },
    {
      "cell_type": "code",
      "metadata": {
        "id": "HRs-n2MPFiZD"
      },
      "source": [
        "# 실행시 등장하는 URL을 클릭하여 허용해주면 인증KEY가 나타난다. 복사하여 URL아래 빈칸에 붙여넣으면 마운트에 성공하게된다.\n",
        "from google.colab import drive\n",
        "drive.mount('./MyDrive')"
      ],
      "execution_count": null,
      "outputs": []
    },
    {
      "cell_type": "code",
      "metadata": {
        "id": "uTeiOXafGGb0"
      },
      "source": [
        "# 마운트된 내 드라이브를 확인해보자\n",
        "!ls"
      ],
      "execution_count": null,
      "outputs": []
    },
    {
      "cell_type": "code",
      "metadata": {
        "id": "OF0zs8U0Gg6F"
      },
      "source": [
        "# 해당 드라이브로 이동 \n",
        "# 내 드라이브는 원격서버가 아니라 로컬서버로 간주하므로 명령어 실행시 앞단에 !를 붙이지 않는다.\n",
        "cd MyDrive/My Drive"
      ],
      "execution_count": null,
      "outputs": []
    },
    {
      "cell_type": "code",
      "metadata": {
        "id": "pJbDY2ZlHrVH"
      },
      "source": [
        "# 내드라이브의 전체 목록이 나타난다.\n",
        "ls"
      ],
      "execution_count": null,
      "outputs": []
    },
    {
      "cell_type": "code",
      "metadata": {
        "id": "a-TjxRTuKkO1"
      },
      "source": [
        "# 특정파일을 가져오고 싶은 경우 다음과 같이 접근한다.\n",
        "import pandas as pd\n",
        "df = pd.read_csv(\"./MyDrive/test/test.csv\")"
      ],
      "execution_count": null,
      "outputs": []
    },
    {
      "cell_type": "markdown",
      "metadata": {
        "id": "8LfcmnmkGnvl"
      },
      "source": [
        "## 4. 텐서플로우 실행"
      ]
    },
    {
      "cell_type": "markdown",
      "metadata": {
        "id": "6E-5iVjwIRn0"
      },
      "source": [
        "## 텐서플로우 샘플 CNN(컨볼루션 신경망 계층)의 성능측정(CPU vs GPU)\n",
        "* GPU가 압도적으로 빠른것을 확인할 수 있다."
      ]
    },
    {
      "cell_type": "code",
      "metadata": {
        "id": "s3IdBdRaobac"
      },
      "source": [
        "import tensorflow as tf\n",
        "import timeit\n",
        "\n",
        "# See https://www.tensorflow.org/tutorials/using_gpu#allowing_gpu_memory_growth\n",
        "config = tf.ConfigProto()\n",
        "config.gpu_options.allow_growth = True\n",
        "\n",
        "with tf.device('/cpu:0'):\n",
        "  random_image_cpu = tf.random_normal((100, 100, 100, 3))\n",
        "  net_cpu = tf.layers.conv2d(random_image_cpu, 32, 7)\n",
        "  net_cpu = tf.reduce_sum(net_cpu)\n",
        "\n",
        "with tf.device('/device:GPU:0'):\n",
        "  random_image_gpu = tf.random_normal((100, 100, 100, 3))\n",
        "  net_gpu = tf.layers.conv2d(random_image_gpu, 32, 7)\n",
        "  net_gpu = tf.reduce_sum(net_gpu)\n",
        "\n",
        "sess = tf.Session(config=config)\n",
        "\n",
        "# Ensure that TF can detect the GPU.\n",
        "try:\n",
        "  sess.run(tf.global_variables_initializer())\n",
        "except tf.errors.InvalidArgumentError:\n",
        "  print(\n",
        "      '\\n\\nThis error most likely means that this notebook is not '\n",
        "      'configured to use a GPU.  Change this in Notebook Settings via the '\n",
        "      'command palette (cmd/ctrl-shift-P) or the Edit menu.\\n\\n')\n",
        "  raise\n",
        "\n",
        "def cpu():\n",
        "  sess.run(net_cpu)\n",
        "  \n",
        "def gpu():\n",
        "  sess.run(net_gpu)\n",
        "  \n",
        "# We run each op once to warm up; see: https://stackoverflow.com/a/45067900\n",
        "cpu()\n",
        "gpu()\n",
        "\n",
        "# Run the op several times.\n",
        "print('Time (s) to convolve 32x7x7x3 filter over random 100x100x100x3 images '\n",
        "      '(batch x height x width x channel). Sum of ten runs.')\n",
        "print('CPU (s):')\n",
        "cpu_time = timeit.timeit('cpu()', number=10, setup=\"from __main__ import cpu\")\n",
        "print(cpu_time)\n",
        "print('GPU (s):')\n",
        "gpu_time = timeit.timeit('gpu()', number=10, setup=\"from __main__ import gpu\")\n",
        "print(gpu_time)\n",
        "print('GPU speedup over CPU: {}x'.format(int(cpu_time/gpu_time)))\n",
        "\n",
        "sess.close()"
      ],
      "execution_count": null,
      "outputs": []
    },
    {
      "cell_type": "markdown",
      "metadata": {
        "id": "JZqOWCAqIiuP"
      },
      "source": [
        "## 5. 케라스 샘플코드 테스트"
      ]
    },
    {
      "cell_type": "code",
      "metadata": {
        "id": "0VcMyBBBoehz"
      },
      "source": [
        "from keras.utils import np_utils\n",
        "from keras.datasets import mnist\n",
        "from keras.models import Sequential\n",
        "from keras.layers import Dense, Activation\n",
        "\n",
        "# mnist import\n",
        "(X_train, Y_train), (X_test, Y_test) = mnist.load_data()\n",
        "\n",
        "# 0~1 사이의 값으로 정규화\n",
        "X_train = X_train.reshape(60000, 784).astype('float32') / 255.0\n",
        "X_test = X_test.reshape(10000, 784).astype('float32') / 255.0\n",
        "\n",
        "# 원핫 인코딩\n",
        "Y_train = np_utils.to_categorical(Y_train)\n",
        "Y_test = np_utils.to_categorical(Y_test)\n",
        "\n",
        "model = Sequential()\n",
        "model.add(Dense(units=64, input_dim=28*28, activation='relu'))\n",
        "model.add(Dense(units=10, activation='softmax'))\n",
        "model.compile(loss='categorical_crossentropy', optimizer='sgd', metrics=['accuracy'])\n",
        "hist = model.fit(X_train, Y_train, epochs=2, batch_size=32)\n",
        "\n",
        "loss_and_metrics = model.evaluate(X_test, Y_test, batch_size=32)\n",
        "\n",
        "print('loss_and_metrics : ' + str(loss_and_metrics))"
      ],
      "execution_count": null,
      "outputs": []
    },
    {
      "cell_type": "markdown",
      "metadata": {
        "id": "CuLyC9tYJcPA"
      },
      "source": [
        "## 6. 기타\n",
        "\n",
        "* 상단의 OS 모델에서 확인했듯이 우분투의 apt-get 명령어를 활용하여 다양한 설치가 가능하다.\n",
        "* Pytorch 등이 이용가능하며 텐서플로우 또한 다른버전을 설치하여 사용할 수 있다.\n",
        "* 구글 BigQuery 사용가능(pd.read_gbq 함수 활용하여 SQL실행)\n",
        "* Kaggle 연동 가능\n",
        "* REST API- BytesIO 연동 가능\n",
        "\n",
        "그 외 새로운 기능들을 시간나는대로 틈틈이 추가 기술하겠습니다."
      ]
    }
  ]
}